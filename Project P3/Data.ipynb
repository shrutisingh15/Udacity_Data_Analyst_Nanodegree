{
 "cells": [
  {
   "cell_type": "markdown",
   "metadata": {},
   "source": [
    "### OpenStreetMap Project P3 : Data Wrangling of Syracuse City Area Using SQL : Preparing the database"
   ]
  },
  {
   "cell_type": "code",
   "execution_count": 2,
   "metadata": {
    "collapsed": true
   },
   "outputs": [],
   "source": [
    "# Importing all the required libraries\n",
    "import csv\n",
    "import codecs\n",
    "import re\n",
    "import xml.etree.cElementTree as ET\n",
    "from collections import defaultdict\n",
    "import pprint"
   ]
  },
  {
   "cell_type": "code",
   "execution_count": 3,
   "metadata": {
    "collapsed": true
   },
   "outputs": [],
   "source": [
    "# All the files needed\n",
    "OSM_PATH=\"syracuse_new-york.osm\"\n",
    "NODES_PATH = \"nodes.csv\"\n",
    "NODE_TAGS_PATH = \"nodes_tags.csv\"\n",
    "WAYS_PATH = \"ways.csv\"\n",
    "WAY_NODES_PATH = \"ways_nodes.csv\"\n",
    "WAY_TAGS_PATH = \"ways_tags.csv\""
   ]
  },
  {
   "cell_type": "code",
   "execution_count": 4,
   "metadata": {
    "collapsed": true
   },
   "outputs": [],
   "source": [
    "# The headers for the csv files\n",
    "NODE_FIELDS = ['id', 'lat', 'lon', 'user', 'uid', 'version', 'changeset', 'timestamp']\n",
    "NODE_TAGS_FIELDS = ['id', 'key', 'value', 'type']\n",
    "WAY_FIELDS = ['id', 'user', 'uid', 'version', 'changeset', 'timestamp']\n",
    "WAY_TAGS_FIELDS = ['id', 'key', 'value', 'type']\n",
    "WAY_NODES_FIELDS = ['id', 'node_id', 'position']\n",
    "\n",
    "# Dictionary of mapping between the expected street types and common errors that can be encountered in the osm document\n",
    "\n",
    "mapping = {\n",
    "    \"St\":\"Street\",\n",
    "    \"St.\":\"Street\",\n",
    "    \"St \":\"Street\",\n",
    "    \"street\":\"Street\",\n",
    "    \"Ave\":\"Avenue\",\n",
    "    \"Av\":\"Avenue\",\n",
    "    \"Rd\":\"Road\",\n",
    "    \"Rd.\":\"Road\",\n",
    "    \"road\":\"Road\",\n",
    "    \"Pl\":\"Place\",\n",
    "    \"place\":\"Place\",\n",
    "    \"terrace\":\"Terrace\",\n",
    "    \"Ln\": \"Lane\",\n",
    "    \"Dr\": \"Drive\",\n",
    "    \"Pkwy\":\"Parkway\",\n",
    "    \"Cir\":\"Circle\",\n",
    "    \"Plz\":\"Plaza\",\n",
    "    \"Rte\" : \"Route\",\n",
    "    \"Courts\":\"Court\"\n",
    "}\n",
    "\n",
    "# List of expected street types\n",
    "expected = [\"Street\", \"Avenue\", \"Boulevard\", \"Drive\", \"Court\", \"Place\", \"Square\", \"Lane\", \"Road\",\n",
    "            \"Trail\", \"Parkway\", \"Commons\", \"Close\", \"Circle\", \"Lorong\", \"Crescent\", \"Hill\", \"Highway\",\n",
    "            \"Heights\", \"Link\", \"Loop\", \"Park\", \"Terrace\", \"View\", \"Walk\", \"Way\", \"Turnpike\", \"Parkway\", \n",
    "           \"Plaza\", \"Path\", \"Center\", \"Route\", \"Trail\", \"Rowe\", \"Ridge\", \"31\"]"
   ]
  },
  {
   "cell_type": "markdown",
   "metadata": {},
   "source": [
    "### Updating Bad Street Names"
   ]
  },
  {
   "cell_type": "code",
   "execution_count": 5,
   "metadata": {
    "collapsed": false
   },
   "outputs": [],
   "source": [
    "# Function to update bad street types\n",
    "\n",
    "def update_street_name(street_name):\n",
    "               \n",
    "    st_name=street_name.split(' ')\n",
    "    if st_name[-1] in mapping:\n",
    "                correct_st_name=mapping[st_name[-1]]\n",
    "                st_name[-1]=correct_st_name\n",
    "    name=' '.join(st_name)\n",
    "            \n",
    "    return name\n",
    "                                 "
   ]
  },
  {
   "cell_type": "markdown",
   "metadata": {},
   "source": [
    "### Updating Bad Postal Codes"
   ]
  },
  {
   "cell_type": "code",
   "execution_count": 6,
   "metadata": {
    "collapsed": true
   },
   "outputs": [],
   "source": [
    "# Function to update bad Postal codes\n",
    "\n",
    "def update_postalcode(postalcode):\n",
    "    problemchars = re.compile(r'[=\\+-/&<>;\\'\"\\?%#$@\\,\\. \\t\\r\\n]')\n",
    "    m=problemchars.search(postalcode)\n",
    "    if m:\n",
    "        post=postalcode.split('-')\n",
    "        postalcode=post[-2]\n",
    "    if not postalcode.isdigit():\n",
    "        pass\n",
    "    if len(postalcode) > 5:\n",
    "        postalcode = postalcode[0:5]    \n",
    "    return postalcode"
   ]
  },
  {
   "cell_type": "markdown",
   "metadata": {},
   "source": [
    "### Shaping and updating the Elements of the OSM file"
   ]
  },
  {
   "cell_type": "code",
   "execution_count": 7,
   "metadata": {
    "collapsed": false
   },
   "outputs": [],
   "source": [
    "# Code to shape and update the elements of OSM file\n",
    "\n",
    "def shape_element(element):\n",
    "    LOWER_COLON = re.compile(r'^([a-z]|_)+:([a-z]|_)+')\n",
    "    PROBLEMCHARS = re.compile(r'[=\\+/&<>;\\'\"\\?%#$@\\,\\. \\t\\r\\n]')\n",
    "    node_attribs = {}\n",
    "    way_attribs = {}\n",
    "    way_nodes = []\n",
    "    tags=[]\n",
    "    \n",
    "    # Code to shape and update node tags & node tag items\n",
    "    if element.tag == 'node':\n",
    "                nodeid=element.attrib['id']      # Fetching the nodeid     \n",
    "                for att in element.attrib:       # Fetching the attributes of node tag\n",
    "                    node_attribs[att]=element.attrib[att]\n",
    "                if element.findall('tag'):       # finding the secondary tags in the main node tag\n",
    "                    for tag in element.iter('tag'):  # Iterating through the secondary tags\n",
    "                        if not PROBLEMCHARS.search(tag.attrib['k']):   # Checking for the problem characters in k attribute\n",
    "                            if LOWER_COLON.search(tag.attrib['k']):    # Checking for : character in k attribute\n",
    "                                sub=tag.attrib['k'].split(':',1)       # Splitting the k attribute\n",
    "                                key=sub[-1]\n",
    "                                typev=sub[-2]\n",
    "                                if tag.attrib['k'] == 'addr:street':  # Fetching the street name based on the condition\n",
    "                                    street_name = tag.attrib['v'] \n",
    "                                    st_name=street_name.split(' ')\n",
    "                                    if st_name[-1] not in expected:\n",
    "                                        if st_name[-2] not in expected:\n",
    "                                            name=update_street_name(street_name)   # updating the bad street types\n",
    "                                            tag.attrib['v']=name \n",
    "                                if tag.attrib['k'] == 'addr:postcode':   # Fecthing the postal code value based on the condition\n",
    "                                    postalcode=tag.attrib['v']\n",
    "                                    pcode=update_postalcode(postalcode)  # updating the bad postal code values\n",
    "                                    tag.attrib['v']=pcode\n",
    "                                temp=dict(id=nodeid,key=key,value=tag.attrib['v'],type=typev)  \n",
    "                                tags.append(temp)\n",
    "                                temp=dict()\n",
    "                            else:\n",
    "                                temp = dict(id=nodeid,key=tag.attrib['k'],value=tag.attrib['v'],type='regular')\n",
    "                                tags.append(temp)\n",
    "                                temp=dict()\n",
    "                else:\n",
    "                    tags=[]\n",
    "                return {'node': node_attribs, 'node_tags': tags}  \n",
    "    # Code to shape and update way tags & way tag items\n",
    "    elif element.tag == 'way':\n",
    "                wayid=element.attrib['id']   # Fetching the wayid\n",
    "                for att in element.attrib:   # Fetching the attributes of way tag\n",
    "                    way_attribs[att]=element.attrib[att]\n",
    "                if element.findall('tag'):   # Finding the secondary tags in the main way tag\n",
    "                    for tag in element.iter('tag'):   #Iterating through the secondary tags\n",
    "                        if not PROBLEMCHARS.search(tag.attrib['k']):   # Checking for the problem characters in k attribute\n",
    "                            if LOWER_COLON.search(tag.attrib['k']):    # Checking for : character in k attribute\n",
    "                                sub=tag.attrib['k'].split(':',1)      # Splitting the k attribute\n",
    "                                keyval=sub[-1]\n",
    "                                typeval=sub[-2]\n",
    "                                if tag.attrib['k'] == 'addr:street':   # Fetching the street name based on the condition\n",
    "                                    street_name = tag.attrib['v'] \n",
    "                                    st_name=street_name.split(' ')\n",
    "                                    if st_name[-1] not in expected:\n",
    "                                        if st_name[-2] not in expected:\n",
    "                                            name=update_street_name(street_name)   # updating the bad street types\n",
    "                                            tag.attrib['v']=name\n",
    "                                if tag.attrib['k'] == 'addr:postcode':   # Fetching the postal code value based on the condition\n",
    "                                    postalcode=tag.attrib['v']\n",
    "                                    pcode=update_postalcode(postalcode)  # updating the bad postal code values\n",
    "                                    tag.attrib['v']=pcode\n",
    "                                temp=dict(id=wayid,key=keyval,value=tag.attrib['v'],type=typeval)\n",
    "                                tags.append(temp)\n",
    "                                temp=dict()\n",
    "                            else:\n",
    "                                temp = dict(id=wayid,key=tag.attrib['k'],value=tag.attrib['v'],type='regular')\n",
    "                                tags.append(temp)\n",
    "                                temp=dict() \n",
    "                else:\n",
    "                    tags=[]\n",
    "                if element.findall('nd'):\n",
    "                    pos=0\n",
    "                    for tag in element.iter('nd'):\n",
    "                            temp=dict(id=wayid,node_id=tag.attrib['ref'],position=pos)\n",
    "                            way_nodes.append(temp)\n",
    "                            pos+=1\n",
    "                return {'way': way_attribs, 'way_nodes': way_nodes, 'way_tags': tags}\n",
    "\n",
    "\n"
   ]
  },
  {
   "cell_type": "code",
   "execution_count": 8,
   "metadata": {
    "collapsed": true
   },
   "outputs": [],
   "source": [
    "# Function to fetch the data from osm file iteratively\n",
    "\n",
    "def get_element(osm_file, tags=('node', 'way', 'relation')):\n",
    "    \"\"\"Yield element if it is the right type of tag\"\"\"\n",
    "\n",
    "    context = ET.iterparse(osm_file, events=('start', 'end'))\n",
    "    _, root = next(context)\n",
    "    for event, elem in context:\n",
    "        if event == 'end' and elem.tag in tags:\n",
    "            yield elem\n",
    "            root.clear()"
   ]
  },
  {
   "cell_type": "code",
   "execution_count": 9,
   "metadata": {
    "collapsed": false
   },
   "outputs": [],
   "source": [
    "# Function code to extend the UnicodeDictWriter class for csv file writting\n",
    "\n",
    "class UnicodeDictWriter(csv.DictWriter, object):\n",
    "    \"\"\"Extend csv.DictWriter to handle Unicode input\"\"\"\n",
    "\n",
    "    def writerow(self, row):\n",
    "        super(UnicodeDictWriter, self).writerow({\n",
    "            k: (v.encode('utf-8') if isinstance(v, unicode) else v) for k, v in row.iteritems()\n",
    "        })\n",
    "\n",
    "    def writerows(self, rows):\n",
    "        for row in rows:\n",
    "            self.writerow(row)"
   ]
  },
  {
   "cell_type": "code",
   "execution_count": 10,
   "metadata": {
    "collapsed": false
   },
   "outputs": [],
   "source": [
    "# Final code to fetch,clean and write the data in respective csv files.\n",
    "\n",
    "def process_map(file_in):\n",
    "    \"\"\"Iteratively process each XML element and write to csv(s)\"\"\"\n",
    "   \n",
    "    with codecs.open(NODES_PATH, 'wb') as nodes_file, \\\n",
    "        codecs.open(NODE_TAGS_PATH, 'wb') as nodes_tags_file, \\\n",
    "        codecs.open(WAYS_PATH, 'wb') as ways_file, \\\n",
    "        codecs.open(WAY_NODES_PATH, 'wb') as way_nodes_file, \\\n",
    "        codecs.open(WAY_TAGS_PATH, 'wb') as way_tags_file:\n",
    "\n",
    "        nodes_writer = UnicodeDictWriter(nodes_file, NODE_FIELDS)\n",
    "        node_tags_writer = UnicodeDictWriter(nodes_tags_file, NODE_TAGS_FIELDS)\n",
    "        ways_writer = UnicodeDictWriter(ways_file, WAY_FIELDS)\n",
    "        way_nodes_writer = UnicodeDictWriter(way_nodes_file, WAY_NODES_FIELDS)\n",
    "        way_tags_writer = UnicodeDictWriter(way_tags_file, WAY_TAGS_FIELDS)\n",
    "\n",
    "        nodes_writer.writeheader()\n",
    "        node_tags_writer.writeheader()\n",
    "        ways_writer.writeheader()\n",
    "        way_nodes_writer.writeheader()\n",
    "        way_tags_writer.writeheader()\n",
    "\n",
    "        \n",
    "\n",
    "        for element in get_element(file_in, tags=('node', 'way')):\n",
    "            el = shape_element(element)\n",
    "            if el:\n",
    "               \n",
    "                if element.tag == 'node':\n",
    "                    nodes_writer.writerow(el['node'])\n",
    "                    node_tags_writer.writerows(el['node_tags'])\n",
    "                elif element.tag == 'way':\n",
    "                    ways_writer.writerow(el['way'])\n",
    "                    way_nodes_writer.writerows(el['way_nodes'])\n",
    "                    way_tags_writer.writerows(el['way_tags'])\n",
    "                    \n",
    "if __name__ == '__main__':\n",
    "    process_map(OSM_PATH)"
   ]
  },
  {
   "cell_type": "code",
   "execution_count": null,
   "metadata": {
    "collapsed": true
   },
   "outputs": [],
   "source": []
  }
 ],
 "metadata": {
  "kernelspec": {
   "display_name": "Python 2",
   "language": "python",
   "name": "python2"
  },
  "language_info": {
   "codemirror_mode": {
    "name": "ipython",
    "version": 2
   },
   "file_extension": ".py",
   "mimetype": "text/x-python",
   "name": "python",
   "nbconvert_exporter": "python",
   "pygments_lexer": "ipython2",
   "version": "2.7.11"
  }
 },
 "nbformat": 4,
 "nbformat_minor": 0
}
