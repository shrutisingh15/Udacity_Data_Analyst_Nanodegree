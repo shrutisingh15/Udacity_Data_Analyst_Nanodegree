{
 "cells": [
  {
   "cell_type": "markdown",
   "metadata": {},
   "source": [
    "# P1 : Test a Perpetual Phenomenon "
   ]
  },
  {
   "cell_type": "markdown",
   "metadata": {},
   "source": [
    "## Background Information"
   ]
  },
  {
   "cell_type": "markdown",
   "metadata": {},
   "source": [
    "In this project, I will investigate a classic phenomenon from experimental psychology called the Stroop Effect.In stroop task , participants are presented with a list of words, with each word displayed in a colour of ink.The participant's task is to say out loud the colour of the ink in which the word is printed.The task has two conditions: a congruent words condition, and an incongruent words condition.In the congruent words condition, the words being displayed are color words whose names match the colors in which they are printed.In the incongruent words condition, the words displayed are color words whose names do not match the colors in which they are printed.In each case, we measure the time it takes to name the ink colors in equally-sized lists. Each participant will go through and record a time from each condition."
   ]
  },
  {
   "cell_type": "markdown",
   "metadata": {},
   "source": [
    "# Questions for investigation"
   ]
  },
  {
   "cell_type": "markdown",
   "metadata": {},
   "source": [
    "### Question 1 : What is out independent variable? What is our dependent variable ?"
   ]
  },
  {
   "cell_type": "markdown",
   "metadata": {},
   "source": [
    "**Dependent Variable:** Time taken to say the colour of the ink.\n",
    "\n",
    "**Independent Variable:** Word conditions of Stroop task (Congruent condition and Incongruent condition)."
   ]
  },
  {
   "cell_type": "markdown",
   "metadata": {},
   "source": [
    "### Question 2 :What is an appropriate set of hypotheses for this task? What kind of statistical test do you expect to perform? Justify your choices."
   ]
  },
  {
   "cell_type": "markdown",
   "metadata": {},
   "source": [
    "**$H_0$:** The time taken to name the ink colour is same for both the conditions.In other words,there is no significant difference between the population averages of the time taken to say the words in Congruent and Incongruent conditions. \n",
    "\n",
    "**i.e** $\\mu_i$ - $\\mu_c$ = 0"
   ]
  },
  {
   "cell_type": "markdown",
   "metadata": {},
   "source": [
    "**$H_A$:** There is a significant difference between the population averages of the time taken to say the words in Congruent and Incongruent conditions.\n",
    "\n",
    "**i.e**  $\\mu_i$ - $\\mu_c$ ≠ 0"
   ]
  },
  {
   "cell_type": "markdown",
   "metadata": {},
   "source": [
    "**where,**    \n",
    "* $H_0$ : Null Hypothesis\n",
    "* $H_A$ : Alternate Hypothesis\n",
    "* $\\mu_i$ : Population average for Incongruent condition\n",
    "* $\\mu_c$ : Population average for Congruent condition"
   ]
  },
  {
   "cell_type": "markdown",
   "metadata": {},
   "source": [
    "**I expect to perform a dependent sample two tailed t test to evaluate the null and alternate hypothesis.The fact that the population standard deviation is unknown and the sample size is small makes it appropriate to do a t test instead of z test.\n",
    "I am doing a two-tailed test because I am interested in finding out if there is a difference and not which value is greater.**"
   ]
  },
  {
   "cell_type": "markdown",
   "metadata": {},
   "source": [
    "### Question 3 : Report some descriptive statistics regarding this dataset. Include at least one measure of central tendency and at least one measure of variability."
   ]
  },
  {
   "cell_type": "code",
   "execution_count": 25,
   "metadata": {
    "collapsed": false
   },
   "outputs": [],
   "source": [
    "#Import libraries to read and process the data\n",
    "import pandas as pd\n",
    "import numpy as np\n",
    "from __future__ import division\n",
    "from math import sqrt\n",
    "\n",
    "#Import the libraries to visualize the data\n",
    "import matplotlib.pyplot as plt\n",
    "% matplotlib inline\n",
    "import seaborn as sns\n",
    "sns.set_style(\"whitegrid\")\n",
    "\n",
    "#Import stats module to do statistical test\n",
    "from scipy import stats"
   ]
  },
  {
   "cell_type": "code",
   "execution_count": 4,
   "metadata": {
    "collapsed": false
   },
   "outputs": [
    {
     "data": {
      "text/html": [
       "<div>\n",
       "<table border=\"1\" class=\"dataframe\">\n",
       "  <thead>\n",
       "    <tr style=\"text-align: right;\">\n",
       "      <th></th>\n",
       "      <th>Congruent</th>\n",
       "      <th>Incongruent</th>\n",
       "    </tr>\n",
       "  </thead>\n",
       "  <tbody>\n",
       "    <tr>\n",
       "      <th>0</th>\n",
       "      <td>12.079</td>\n",
       "      <td>19.278</td>\n",
       "    </tr>\n",
       "    <tr>\n",
       "      <th>1</th>\n",
       "      <td>16.791</td>\n",
       "      <td>18.741</td>\n",
       "    </tr>\n",
       "    <tr>\n",
       "      <th>2</th>\n",
       "      <td>9.564</td>\n",
       "      <td>21.214</td>\n",
       "    </tr>\n",
       "    <tr>\n",
       "      <th>3</th>\n",
       "      <td>8.630</td>\n",
       "      <td>15.687</td>\n",
       "    </tr>\n",
       "    <tr>\n",
       "      <th>4</th>\n",
       "      <td>14.669</td>\n",
       "      <td>22.803</td>\n",
       "    </tr>\n",
       "  </tbody>\n",
       "</table>\n",
       "</div>"
      ],
      "text/plain": [
       "   Congruent  Incongruent\n",
       "0     12.079       19.278\n",
       "1     16.791       18.741\n",
       "2      9.564       21.214\n",
       "3      8.630       15.687\n",
       "4     14.669       22.803"
      ]
     },
     "execution_count": 4,
     "metadata": {},
     "output_type": "execute_result"
    }
   ],
   "source": [
    "# Read the csv data set\n",
    "dframe=pd.read_csv(\"stroopdata.csv\")\n",
    "\n",
    "#Take a glimpse of the data\n",
    "dframe.head()"
   ]
  },
  {
   "cell_type": "markdown",
   "metadata": {},
   "source": [
    "**The central tendency of the two dependent variables(Incongruent and Congruent) can be measured by Mean and Median.**"
   ]
  },
  {
   "cell_type": "code",
   "execution_count": 6,
   "metadata": {
    "collapsed": false
   },
   "outputs": [
    {
     "name": "stdout",
     "output_type": "stream",
     "text": [
      "Mean of Congruent : 14.051125\n",
      "Median of Congruent : 14.3565\n"
     ]
    }
   ],
   "source": [
    "print \"Mean of Congruent :\" , dframe[\"Congruent\"].mean()\n",
    "print \"Median of Congruent :\" , dframe[\"Congruent\"].median()"
   ]
  },
  {
   "cell_type": "code",
   "execution_count": 7,
   "metadata": {
    "collapsed": false
   },
   "outputs": [
    {
     "name": "stdout",
     "output_type": "stream",
     "text": [
      "Mean of Incongruent : 22.0159166667\n",
      "Median of Incongruent : 21.0175\n"
     ]
    }
   ],
   "source": [
    "print \"Mean of Incongruent :\", dframe[\"Incongruent\"].mean()\n",
    "print \"Median of Incongruent :\", dframe[\"Incongruent\"].median()"
   ]
  },
  {
   "cell_type": "markdown",
   "metadata": {},
   "source": [
    "**The variability can be measured by Standard deviation and IQR(inter quartile range).**"
   ]
  },
  {
   "cell_type": "code",
   "execution_count": 8,
   "metadata": {
    "collapsed": false
   },
   "outputs": [
    {
     "name": "stdout",
     "output_type": "stream",
     "text": [
      "Standard deviation of Congruent : 3.55935795765\n",
      "IQR for Congruent : 4.3055\n"
     ]
    }
   ],
   "source": [
    "print \"Standard deviation of Congruent :\", dframe[\"Congruent\"].std()\n",
    "print \"IQR for Congruent :\", np.percentile(dframe[\"Congruent\"],75)-np.percentile(dframe[\"Congruent\"],25)"
   ]
  },
  {
   "cell_type": "code",
   "execution_count": 9,
   "metadata": {
    "collapsed": false
   },
   "outputs": [
    {
     "name": "stdout",
     "output_type": "stream",
     "text": [
      "Standard deviation for Incongruent : 4.79705712247\n",
      "IQR for Incongruent : 5.33475\n"
     ]
    }
   ],
   "source": [
    "print \"Standard deviation for Incongruent :\", dframe[\"Incongruent\"].std()\n",
    "print \"IQR for Incongruent :\", np.percentile(dframe[\"Incongruent\"],75)-np.percentile(dframe[\"Incongruent\"],25)"
   ]
  },
  {
   "cell_type": "markdown",
   "metadata": {},
   "source": [
    "### Question 4: Provide one or two visualizations that show the distribution of the sample data. Write one or two sentences noting what you observe about the plot or plots."
   ]
  },
  {
   "cell_type": "code",
   "execution_count": 10,
   "metadata": {
    "collapsed": false
   },
   "outputs": [
    {
     "data": {
      "text/plain": [
       "<matplotlib.text.Text at 0x1b5c5198>"
      ]
     },
     "execution_count": 10,
     "metadata": {},
     "output_type": "execute_result"
    },
    {
     "data": {
      "image/png": "[encoded data removed]",
      "text/plain": [
       "<matplotlib.figure.Figure at 0x1b544470>"
      ]
     },
     "metadata": {},
     "output_type": "display_data"
    }
   ],
   "source": [
    "plt.hist(dframe[\"Congruent\"],color=\"blue\")\n",
    "plt.xlabel(\"Congruent\")\n",
    "plt.ylabel(\"Frequency\")\n",
    "plt.title(\"Histogram for Congruent Word Condition\")"
   ]
  },
  {
   "cell_type": "markdown",
   "metadata": {},
   "source": [
    "The histogram for congruent word condition shows the values are centered between 14 and 15 with the mean of 14.05 and standard deviation of 3.55"
   ]
  },
  {
   "cell_type": "code",
   "execution_count": 11,
   "metadata": {
    "collapsed": false
   },
   "outputs": [
    {
     "data": {
      "text/plain": [
       "<matplotlib.text.Text at 0x1ba40e48>"
      ]
     },
     "execution_count": 11,
     "metadata": {},
     "output_type": "execute_result"
    },
    {
     "data": {
      "image/png": "[encoded data removed]",
      "text/plain": [
       "<matplotlib.figure.Figure at 0x1b6cae10>"
      ]
     },
     "metadata": {},
     "output_type": "display_data"
    }
   ],
   "source": [
    "plt.hist(dframe[\"Incongruent\"],color=\"red\")\n",
    "plt.xlabel(\"Incongruent\")\n",
    "plt.ylabel(\"Frequency\")\n",
    "plt.title(\"Histogram for Incongruent Word Condition\")"
   ]
  },
  {
   "cell_type": "markdown",
   "metadata": {},
   "source": [
    "The histogram for incongruent condition says that values are centered around 22 with the mean of 22.01 with an outlier around 35.The standard deviation is 4.79."
   ]
  },
  {
   "cell_type": "code",
   "execution_count": 12,
   "metadata": {
    "collapsed": false
   },
   "outputs": [
    {
     "data": {
      "text/plain": [
       "<matplotlib.axes._subplots.AxesSubplot at 0x1ba50668>"
      ]
     },
     "execution_count": 12,
     "metadata": {},
     "output_type": "execute_result"
    },
    {
     "data": {
      "image/png": "[encoded data removed]",
      "text/plain": [
       "<matplotlib.figure.Figure at 0x1b51cc50>"
      ]
     },
     "metadata": {},
     "output_type": "display_data"
    }
   ],
   "source": [
    "# Plotting a box plot using seaborn library\n",
    "sns.boxplot(data=dframe,orient=\"v\",palette=\"Set2\")"
   ]
  },
  {
   "cell_type": "markdown",
   "metadata": {},
   "source": [
    "* The presence of outlier points in Incongruent condition can be clearly seen from the above box plots.\n",
    "* The median value for congruent condition is lower than Incongruent condition.\n",
    "* Congruents task have lesser variability in data as confirmed by the spread of the data (IQR value) in the boxplots.\n",
    "\n",
    "\n",
    "From the above visualizations, Congruent tasks seem to be completed faster than Incongruent tasks."
   ]
  },
  {
   "cell_type": "markdown",
   "metadata": {},
   "source": [
    "### Question 5 :Now, perform the statistical test and report your results. What is your confidence level and your critical statistic value? Do you reject the null hypothesis or fail to reject it? Come to a conclusion in terms of the experiment task. Did the results match up with your expectations?"
   ]
  },
  {
   "cell_type": "code",
   "execution_count": 13,
   "metadata": {
    "collapsed": false
   },
   "outputs": [
    {
     "data": {
      "text/html": [
       "<div>\n",
       "<table border=\"1\" class=\"dataframe\">\n",
       "  <thead>\n",
       "    <tr style=\"text-align: right;\">\n",
       "      <th></th>\n",
       "      <th>Congruent</th>\n",
       "      <th>Incongruent</th>\n",
       "    </tr>\n",
       "  </thead>\n",
       "  <tbody>\n",
       "    <tr>\n",
       "      <th>0</th>\n",
       "      <td>12.079</td>\n",
       "      <td>19.278</td>\n",
       "    </tr>\n",
       "    <tr>\n",
       "      <th>1</th>\n",
       "      <td>16.791</td>\n",
       "      <td>18.741</td>\n",
       "    </tr>\n",
       "    <tr>\n",
       "      <th>2</th>\n",
       "      <td>9.564</td>\n",
       "      <td>21.214</td>\n",
       "    </tr>\n",
       "    <tr>\n",
       "      <th>3</th>\n",
       "      <td>8.630</td>\n",
       "      <td>15.687</td>\n",
       "    </tr>\n",
       "    <tr>\n",
       "      <th>4</th>\n",
       "      <td>14.669</td>\n",
       "      <td>22.803</td>\n",
       "    </tr>\n",
       "  </tbody>\n",
       "</table>\n",
       "</div>"
      ],
      "text/plain": [
       "   Congruent  Incongruent\n",
       "0     12.079       19.278\n",
       "1     16.791       18.741\n",
       "2      9.564       21.214\n",
       "3      8.630       15.687\n",
       "4     14.669       22.803"
      ]
     },
     "execution_count": 13,
     "metadata": {},
     "output_type": "execute_result"
    }
   ],
   "source": [
    "# Taking a glimpse of the dataset again\n",
    "dframe.head()"
   ]
  },
  {
   "cell_type": "code",
   "execution_count": 14,
   "metadata": {
    "collapsed": false
   },
   "outputs": [
    {
     "data": {
      "text/html": [
       "<div>\n",
       "<table border=\"1\" class=\"dataframe\">\n",
       "  <thead>\n",
       "    <tr style=\"text-align: right;\">\n",
       "      <th></th>\n",
       "      <th>Congruent</th>\n",
       "      <th>Incongruent</th>\n",
       "      <th>Difference</th>\n",
       "    </tr>\n",
       "  </thead>\n",
       "  <tbody>\n",
       "    <tr>\n",
       "      <th>0</th>\n",
       "      <td>12.079</td>\n",
       "      <td>19.278</td>\n",
       "      <td>7.199</td>\n",
       "    </tr>\n",
       "    <tr>\n",
       "      <th>1</th>\n",
       "      <td>16.791</td>\n",
       "      <td>18.741</td>\n",
       "      <td>1.950</td>\n",
       "    </tr>\n",
       "    <tr>\n",
       "      <th>2</th>\n",
       "      <td>9.564</td>\n",
       "      <td>21.214</td>\n",
       "      <td>11.650</td>\n",
       "    </tr>\n",
       "    <tr>\n",
       "      <th>3</th>\n",
       "      <td>8.630</td>\n",
       "      <td>15.687</td>\n",
       "      <td>7.057</td>\n",
       "    </tr>\n",
       "    <tr>\n",
       "      <th>4</th>\n",
       "      <td>14.669</td>\n",
       "      <td>22.803</td>\n",
       "      <td>8.134</td>\n",
       "    </tr>\n",
       "  </tbody>\n",
       "</table>\n",
       "</div>"
      ],
      "text/plain": [
       "   Congruent  Incongruent  Difference\n",
       "0     12.079       19.278       7.199\n",
       "1     16.791       18.741       1.950\n",
       "2      9.564       21.214      11.650\n",
       "3      8.630       15.687       7.057\n",
       "4     14.669       22.803       8.134"
      ]
     },
     "execution_count": 14,
     "metadata": {},
     "output_type": "execute_result"
    }
   ],
   "source": [
    "# Adding a new column that contains the difference of values between Incongruent and Congruent condition\n",
    "dframe[\"Difference\"]=dframe[\"Incongruent\"]-dframe[\"Congruent\"]\n",
    "\n",
    "#Checking the dataset again\n",
    "dframe.head()"
   ]
  },
  {
   "cell_type": "markdown",
   "metadata": {},
   "source": [
    "**In order to do the hypothesis testing , we need to calculate the mean and standard deviation of the Difference between the word conditions.**"
   ]
  },
  {
   "cell_type": "code",
   "execution_count": 81,
   "metadata": {
    "collapsed": false
   },
   "outputs": [
    {
     "name": "stdout",
     "output_type": "stream",
     "text": [
      "Point Estimate : 7.96479166667\n",
      "Standard Error : 0.993028634778\n",
      "Test statistic : 8.02070694411\n",
      "Degrees of freedom : 23\n"
     ]
    },
    {
     "data": {
      "text/plain": [
       "Ttest_relResult(statistic=8.020706944109957, pvalue=4.1030005857111781e-08)"
      ]
     },
     "execution_count": 81,
     "metadata": {},
     "output_type": "execute_result"
    }
   ],
   "source": [
    "# Calculating the mean and Standard devaition of the Difference column.\n",
    "PE=dframe[\"Difference\"].mean()     # point estimate for difference in population mean  i.e μinc - μcon\n",
    "Stdev=dframe[\"Difference\"].std()   # Standard deviation for the sample\n",
    "Stderr=Stdev/sqrt(24)              # Standard error of the sample\n",
    "\n",
    "# Calculating the t statistic and the degrees of freedom\n",
    "t_statistic = (PE-0)/Stderr        # T statistics\n",
    "df=24-1                            # degrees of freedom = n-1\n",
    "\n",
    "print \"Point Estimate :\" , PE\n",
    "print \"Standard Error :\", Stderr\n",
    "print \"Test statistic :\", t_statistic\n",
    "print \"Degrees of freedom :\", df\n",
    "\n",
    "# Performing the two sided t tests using stats library to get the p value\n",
    "stats.ttest_rel(dframe[\"Incongruent\"],dframe[\"Congruent\"])"
   ]
  },
  {
   "cell_type": "markdown",
   "metadata": {},
   "source": [
    "**The t critical value can be calculated using function from stats library, i.e stats.t.ppf(q,df) or from the [t-table](https://s3.amazonaws.com/udacity-hosted-downloads/t-table.jpg) **\n",
    "\n",
    "tcrit = stats.t.ppf(1-a/2,df)\n",
    "\n",
    "For 95% Confidence Level , α=0.05.\n",
    "Hence, t critical value can be calculated as :"
   ]
  },
  {
   "cell_type": "code",
   "execution_count": 77,
   "metadata": {
    "collapsed": false
   },
   "outputs": [
    {
     "name": "stdout",
     "output_type": "stream",
     "text": [
      "95% Confidence Interval is : (5.9105554239684226, 10.019027909364912)\n"
     ]
    }
   ],
   "source": [
    "# getting the t critical value for 95% CI.\n",
    "tcrit=stats.t.ppf(q=0.975,df=23)    # q=1-0.05/2\n",
    "\n",
    "# Calculating the Margin of error \n",
    "ME=tcrit*Stderr\n",
    "\n",
    "# 95% Confidence Interval = (PE+ME, PE-ME)\n",
    "Upperbound = PE + ME\n",
    "Lowerbound = PE - ME\n",
    "print \"95% Confidence Interval is :\", (Lowerbound ,Upperbound)"
   ]
  },
  {
   "cell_type": "markdown",
   "metadata": {},
   "source": [
    "Summarizing the above calculations :\n",
    "\n",
    "* PointEstimate(PE) : 7.96\n",
    "* StandardError(Stderr) : 0.993\n",
    "* degrees of freedom(df) : 23\n",
    "* T critical value(tcrit): -2.06, 2.06\n",
    "* Test Statistic(t_statistic) : 8.020\n",
    "* pvalue :4.1030005857111781e-08\n",
    "* 95% CI : (5.9105554239684226, 10.019027909364912)\n",
    "\n",
    "### Conclusion:\n",
    "\n",
    "**At 95% CI, the test statistic(8.020) is greater than t critical value(2.06) and the extremely small pvalue is way too lesser that alpha level(0.05).Hence,we reject the Null hypothesis and favour the alternate one.In other words, we can say that the data provides convincing evidence that there is a significant difference between the population average of time taken to read congruent words and population average of the time taken to read incongruent words.**\n"
   ]
  },
  {
   "cell_type": "markdown",
   "metadata": {},
   "source": [
    "The above results of the siginificant difference between the time taken for the two conditions match up to my expectations.Even the results of my stroop task were the same , as I took more time to read incongruent words and read congruent words faster.Normally, people will take different amount of time to read the words in the two conditions."
   ]
  },
  {
   "cell_type": "markdown",
   "metadata": {
    "collapsed": true
   },
   "source": [
    "### References :\n",
    "* Statistics lessons from Udacity : https://www.udacity.com/course/viewer#!/c-ud134-nd\n",
    "* Scipy reference documentation : http://docs.scipy.org/doc/scipy-0.16.0/reference/tutorial/stats.html\n",
    "* Udemy notes on github for data exploration and plotting : http://nbviewer.jupyter.org/github/jmportilla/Udemy-notes\n",
    "* Lessons learnt from my work on github repository : https://github.com/shrutisingh15/Titanic_Survival-Analysis"
   ]
  },
  {
   "cell_type": "code",
   "execution_count": null,
   "metadata": {
    "collapsed": true
   },
   "outputs": [],
   "source": []
  }
 ],
 "metadata": {
  "kernelspec": {
   "display_name": "Python 2",
   "language": "python",
   "name": "python2"
  },
  "language_info": {
   "codemirror_mode": {
    "name": "ipython",
    "version": 2
   },
   "file_extension": ".py",
   "mimetype": "text/x-python",
   "name": "python",
   "nbconvert_exporter": "python",
   "pygments_lexer": "ipython2",
   "version": "2.7.11"
  }
 },
 "nbformat": 4,
 "nbformat_minor": 0
}
